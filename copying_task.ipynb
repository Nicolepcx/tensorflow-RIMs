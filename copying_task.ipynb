{
 "cells": [
  {
   "cell_type": "code",
   "execution_count": 1,
   "metadata": {},
   "outputs": [],
   "source": [
    "import numpy\n",
    "import random"
   ]
  },
  {
   "cell_type": "code",
   "execution_count": 2,
   "metadata": {},
   "outputs": [],
   "source": [
    "def copying_data(T=30, n_data=300*64, n_sequence=10, batch_size=64, make_rand=False, shuffle=False, drop_last=False):\n",
    "    seq = numpy.random.randint(1, high=9, size=(n_data, n_sequence))\n",
    "    zeros1 = numpy.zeros((n_data, T-1))\n",
    "    zeros2 = numpy.zeros((n_data, T))\n",
    "    marker = 9 * numpy.ones((n_data, 1))\n",
    "    zeros3 = numpy.zeros((n_data, n_sequence))\n",
    "\n",
    "    x = numpy.concatenate((seq, zeros1, marker, zeros3), axis=1).astype('int32')\n",
    "    y = numpy.concatenate((zeros3, zeros2, seq), axis=1).astype('int64')\n",
    "\n",
    "    x = numpy.expand_dims(x, axis=-1)\n",
    "    y = numpy.expand_dims(y, axis=-1)\n",
    "    \n",
    "    return x, y"
   ]
  },
  {
   "cell_type": "code",
   "execution_count": 3,
   "metadata": {},
   "outputs": [],
   "source": [
    "random.seed(0)\n",
    "\n",
    "train_x, train_y = copying_data(T=50)\n",
    "test_x, test_y   = copying_data(T=200)"
   ]
  },
  {
   "cell_type": "code",
   "execution_count": null,
   "metadata": {},
   "outputs": [],
   "source": []
  },
  {
   "cell_type": "markdown",
   "metadata": {},
   "source": [
    "# Model comparison"
   ]
  },
  {
   "cell_type": "code",
   "execution_count": 4,
   "metadata": {},
   "outputs": [],
   "source": [
    "import tensorflow as tf\n",
    "from tensorflow.keras.layers import LSTMCell\n",
    "from tfRIM import RIMCell"
   ]
  },
  {
   "cell_type": "markdown",
   "metadata": {},
   "source": [
    "## LSTM model"
   ]
  },
  {
   "cell_type": "code",
   "execution_count": 5,
   "metadata": {},
   "outputs": [],
   "source": [
    "lstmcell = LSTMCell(600)"
   ]
  },
  {
   "cell_type": "code",
   "execution_count": 14,
   "metadata": {},
   "outputs": [],
   "source": [
    "inputs = tf.keras.Input([None, 1])\n",
    "rnnout = tf.keras.layers.RNN(lstmcell, return_sequences=True)(inputs)\n",
    "output = tf.keras.layers.Dense(20)(rnnout)\n",
    "opt = tf.keras.optimizers.Adam(learning_rate=0.001)\n",
    "cost = tf.keras.losses.SparseCategoricalCrossentropy()\n",
    "\n",
    "model_lstm = tf.keras.Model(inputs, output)\n",
    "model_lstm.compile(optimizer=opt, loss=cost)"
   ]
  },
  {
   "cell_type": "code",
   "execution_count": null,
   "metadata": {},
   "outputs": [],
   "source": [
    "model_lstm.fit(train_x, train_y, batch_size=64, epochs=5)"
   ]
  },
  {
   "cell_type": "markdown",
   "metadata": {},
   "source": [
    "## RIMs model"
   ]
  },
  {
   "cell_type": "code",
   "execution_count": 15,
   "metadata": {},
   "outputs": [],
   "source": [
    "rimcell = RIMCell(units=500, nRIM=5, k=2,\n",
    "                num_input_heads=4, input_key_size=32, input_value_size=32, input_query_size=32, input_keep_prob=0.5,\n",
    "                num_comm_heads=4, comm_key_size=32, comm_value_size=32, comm_query_size=32, comm_keep_prob=0.5)"
   ]
  },
  {
   "cell_type": "code",
   "execution_count": 16,
   "metadata": {},
   "outputs": [],
   "source": [
    "inputs = tf.keras.Input([None, 1])\n",
    "rnnout = tf.keras.layers.RNN(rimcell, return_sequences=True)(inputs)\n",
    "output = tf.keras.layers.Dense(20)(rnnout)\n",
    "opt = tf.keras.optimizers.Adam(learning_rate=0.001)\n",
    "cost = tf.keras.losses.SparseCategoricalCrossentropy()\n",
    "\n",
    "model_rims = tf.keras.Model(inputs, output)\n",
    "model_rims.compile(optimizer=opt, loss=cost)"
   ]
  },
  {
   "cell_type": "code",
   "execution_count": 8,
   "metadata": {},
   "outputs": [],
   "source": [
    "# model_rims = tf.keras.Sequential()\n",
    "# model_rims.add(tf.keras.layers.Input([None, 1]))\n",
    "# model_rims.add(tf.keras.layers.RNN(rimcell, return_sequences=True))\n",
    "# model_rims.add(tf.keras.layers.Dense(20))\n",
    "# opt = tf.keras.optimizers.Adam(learning_rate=0.001)\n",
    "# cost = tf.keras.losses.SparseCategoricalCrossentropy()\n",
    "# model_rims.compile(optimizer=opt, loss=cost)"
   ]
  },
  {
   "cell_type": "code",
   "execution_count": null,
   "metadata": {},
   "outputs": [],
   "source": [
    "model_rims.fit(train_x, train_y, batch_size=64, epochs=5)"
   ]
  }
 ],
 "metadata": {
  "kernelspec": {
   "display_name": "Python 3",
   "language": "python",
   "name": "python3"
  },
  "language_info": {
   "codemirror_mode": {
    "name": "ipython",
    "version": 3
   },
   "file_extension": ".py",
   "mimetype": "text/x-python",
   "name": "python",
   "nbconvert_exporter": "python",
   "pygments_lexer": "ipython3",
   "version": "3.7.4"
  }
 },
 "nbformat": 4,
 "nbformat_minor": 2
}
